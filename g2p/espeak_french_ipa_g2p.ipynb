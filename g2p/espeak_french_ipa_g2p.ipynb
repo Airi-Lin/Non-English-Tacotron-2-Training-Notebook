{
  "nbformat": 4,
  "nbformat_minor": 0,
  "metadata": {
    "colab": {
      "name": "espeak french ipa g2p.ipynb",
      "provenance": []
    },
    "kernelspec": {
      "name": "python3",
      "display_name": "Python 3"
    },
    "language_info": {
      "name": "python"
    }
  },
  "cells": [
    {
      "cell_type": "code",
      "execution_count": null,
      "metadata": {
        "cellView": "form",
        "id": "CdNxonNXgBUD"
      },
      "outputs": [],
      "source": [
        "#@markdown # Install dependencies\n",
        "!sudo apt-get install festival espeak-ng mbrola\n",
        "!pip install phonemizer"
      ]
    },
    {
      "cell_type": "code",
      "source": [
        "#@markdown #Option 1: Convert your list to IPA\n",
        "#@markdown #####Upload your transcription txt file and rename it to list.txt before running this cell.\n",
        "#@markdown #####The converted transcription will be called \"written.txt\".\n",
        "#@markdown #####You may need to split your list into chunks if it has more than 1000 lines. I ended up splitting mine into chunks of 1000 each.\n",
        "\n",
        "from phonemizer import phonemize\n",
        "from phonemizer.separator import Separator\n",
        "\n",
        "with open('/content/list.txt') as a:\n",
        "  lines = a.read().splitlines()\n",
        "  for line in lines:\n",
        "    string = line\n",
        "    firstpart = line\n",
        "    firstpart = firstpart.partition('|')[0]\n",
        "    string = string.partition('|')[2]\n",
        "    converted = phonemize(\n",
        "        string,\n",
        "        language='fr-fr',\n",
        "        backend='espeak',\n",
        "        separator=Separator(phone=None, word=' ', syllable='None'),\n",
        "        strip=True,\n",
        "        preserve_punctuation=True,\n",
        "        njobs=4)\n",
        "    written = open('/content/written.txt', 'a')\n",
        "    written.write(firstpart + '|' + converted + '\\n')\n",
        "    written.close()"
      ],
      "metadata": {
        "id": "v7cHw24NqI9g",
        "cellView": "form"
      },
      "execution_count": null,
      "outputs": []
    },
    {
      "cell_type": "code",
      "source": [
        "#@markdown #Option 2: Convert input text to IPA output\n",
        "#@markdown #####Run this cell if you want to convert just a little bit of French text, such as for getting phonemes to input during synthesis. A text box will appear after running the cell; type in your sentence, and then press enter. The formatted text will be output for you to copy.\n",
        "\n",
        "from phonemizer import phonemize\n",
        "from phonemizer.separator import Separator\n",
        "\n",
        "text=input()\n",
        "\n",
        "phn = phonemize(\n",
        "    text,\n",
        "    language='fr-fr',\n",
        "    backend='espeak',\n",
        "    separator=Separator(phone=None, word=' ', syllable=None),\n",
        "    strip=True,\n",
        "    preserve_punctuation=True,\n",
        "    njobs=4)\n",
        "\n",
        "print(phn)"
      ],
      "metadata": {
        "id": "T7rthHI6gdey",
        "cellView": "form"
      },
      "execution_count": null,
      "outputs": []
    }
  ]
}