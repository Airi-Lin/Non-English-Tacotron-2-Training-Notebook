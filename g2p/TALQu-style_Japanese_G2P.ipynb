{
  "nbformat": 4,
  "nbformat_minor": 0,
  "metadata": {
    "colab": {
      "name": "TALQu-style Japanese G2P.ipynb",
      "provenance": [],
      "collapsed_sections": []
    },
    "kernelspec": {
      "name": "python3",
      "display_name": "Python 3"
    },
    "language_info": {
      "name": "python"
    }
  },
  "cells": [
    {
      "cell_type": "code",
      "execution_count": null,
      "metadata": {
        "id": "1o_OnUWxQRCX",
        "cellView": "form"
      },
      "outputs": [],
      "source": [
        "#@markdown #Install pyopenjtalk\n",
        "!pip install pyopenjtalk"
      ]
    },
    {
      "cell_type": "code",
      "source": [
        "#@markdown #Option 1: Convert your list to TALQu-formatted phonemes\n",
        "#@markdown #####Upload your transcription txt file and rename it to list.txt before running this cell.\n",
        "#@markdown #####The converted transcription will be called \"written.txt\".\n",
        "\n",
        "import pyopenjtalk\n",
        "with open('/content/list.txt', 'r') as a:\n",
        "  lines = a.read().splitlines()\n",
        "  for line in lines:\n",
        "    string = line\n",
        "    firstpart = line\n",
        "    firstpart = firstpart.partition('|')[0]\n",
        "    string = string.partition(\"|\")[2]\n",
        "    converted = pyopenjtalk.g2p(string)\n",
        "    converted=converted.replace('N b', 'M b')\n",
        "    converted=converted.replace('N p', 'M p')\n",
        "    converted=converted.replace('N m', 'M m')\n",
        "    converted=converted.replace('pau', ',')\n",
        "    converted=converted.replace('sh', 'sy')\n",
        "    converted=converted.replace('ch', 'cy')\n",
        "    converted=converted.replace('j', 'jy')\n",
        "    converted=converted.replace('cl', 'Q')\n",
        "    converted=converted.replace('k i', 'kyi')\n",
        "    converted=converted.replace('g i', 'gyi')\n",
        "    converted=converted.replace('t i', 'tyi')\n",
        "    converted=converted.replace('d i', 'dyi')\n",
        "    converted=converted.replace('n i', 'nyi')\n",
        "    converted=converted.replace('h i', 'hyi')\n",
        "    converted=converted.replace('b i', 'byi')\n",
        "    converted=converted.replace('p i', 'pyi')\n",
        "    converted=converted.replace('m i', 'myi')\n",
        "    converted=converted.replace('r i', 'ryi')\n",
        "    converted=converted.replace('I', '')\n",
        "    converted=converted.replace('U', '')\n",
        "    converted=converted.replace(' ', '')\n",
        "    written = open('/content/written.txt', 'a')\n",
        "    written.write(firstpart + \"|\" + converted + '.' + '\\n')\n",
        "    written.close()"
      ],
      "metadata": {
        "id": "lxkb2AcvwTE-",
        "cellView": "form"
      },
      "execution_count": null,
      "outputs": []
    },
    {
      "cell_type": "code",
      "source": [
        "#@markdown #Option 2: Convert input text to TALQu-formatted phonemes\n",
        "#@markdown #####Run this cell if you want to convert just a little bit of Japanese text, such as for getting phonemes to input during synthesis. A text box will appear after running the cell; type in your sentence, and then press enter. The formatted text will be output for you to copy.\n",
        "\n",
        "import pyopenjtalk\n",
        "converted=input()\n",
        "converted=pyopenjtalk.g2p(converted)\n",
        "converted=converted.replace('N b', 'M b')\n",
        "converted=converted.replace('N p', 'M p')\n",
        "converted=converted.replace('N m', 'M m')\n",
        "converted=converted.replace('pau', ',')\n",
        "converted=converted.replace('sh', 'sy')\n",
        "converted=converted.replace('ch', 'cy')\n",
        "converted=converted.replace('j', 'jy')\n",
        "converted=converted.replace('cl', 'Q')\n",
        "converted=converted.replace('k i', 'kyi')\n",
        "converted=converted.replace('g i', 'gyi')\n",
        "converted=converted.replace('t i', 'tyi')\n",
        "converted=converted.replace('d i', 'dyi')\n",
        "converted=converted.replace('n i', 'nyi')\n",
        "converted=converted.replace('h i', 'hyi')\n",
        "converted=converted.replace('b i', 'byi')\n",
        "converted=converted.replace('p i', 'pyi')\n",
        "converted=converted.replace('m i', 'myi')\n",
        "converted=converted.replace('r i', 'ryi')\n",
        "converted=converted.replace('I', '')\n",
        "converted=converted.replace('U', '')\n",
        "converted=converted.replace(' ', '')\n",
        "print(converted)"
      ],
      "metadata": {
        "cellView": "form",
        "id": "GGHoeJZFiO6D"
      },
      "execution_count": null,
      "outputs": []
    }
  ]
}