{
  "nbformat": 4,
  "nbformat_minor": 0,
  "metadata": {
    "colab": {
      "name": "Chinese g2p.ipynb",
      "provenance": [],
      "collapsed_sections": []
    },
    "kernelspec": {
      "name": "python3",
      "display_name": "Python 3"
    },
    "language_info": {
      "name": "python"
    }
  },
  "cells": [
    {
      "cell_type": "code",
      "execution_count": null,
      "metadata": {
        "id": "s-dUM4OvygmV",
        "cellView": "form"
      },
      "outputs": [],
      "source": [
        "#@markdown # Install pypinyin\n",
        "!pip install pypinyin"
      ]
    },
    {
      "cell_type": "code",
      "source": [
        "#@markdown # Option 1: Convert your Chinese transcription\n",
        "\n",
        "from pypinyin import pinyin, lazy_pinyin, Style\n",
        "transcription = \"/content/list.txt\" #@param {type:\"string\"}\n",
        "with open(transcription, 'r') as a:\n",
        "  lines = a.read().splitlines()\n",
        "  for line in lines:\n",
        "    string = line\n",
        "    firstpart = line\n",
        "    firstpart = firstpart.partition('|')[0]\n",
        "    string = string.partition('|')[2]\n",
        "    converted = lazy_pinyin(string, style=Style.TONE3, neutral_tone_with_five=True)\n",
        "    converted = ' '.join(converted)\n",
        "    converted = converted.replace('，', ',')\n",
        "    converted = converted.replace('。', '.')\n",
        "    output = \"/content/written.txt\" #@param {type:\"string\"}\n",
        "    written = open(output, 'a')\n",
        "    written.write(firstpart + '|' + converted + '\\n')\n",
        "    written.close()"
      ],
      "metadata": {
        "id": "pVDEEKz40cwv",
        "cellView": "form"
      },
      "execution_count": null,
      "outputs": []
    },
    {
      "cell_type": "code",
      "source": [
        "#@markdown # Option 2: Convert input text\n",
        "\n",
        "from pypinyin import pinyin, lazy_pinyin, Style\n",
        "converted=input()\n",
        "converted=lazy_pinyin(converted, style=Style.TONE3, neutral_tone_with_five=True)\n",
        "converted = ' '.join(converted)\n",
        "converted = converted.replace('，', ',')\n",
        "converted = converted.replace('。', '.')\n",
        "print(converted)"
      ],
      "metadata": {
        "cellView": "form",
        "id": "SeP0aof9MV3x"
      },
      "execution_count": null,
      "outputs": []
    }
  ]
}